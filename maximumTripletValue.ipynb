{
 "cells": [
  {
   "cell_type": "code",
   "execution_count": null,
   "metadata": {},
   "outputs": [],
   "source": [
    "class Solution(object):\n",
    "    def maximumTripletValue(self, nums):\n",
    "        enbuyukcevap = 0\n",
    "        n = len(nums)\n",
    "        for i in range(n-2):\n",
    "            for j in range(i+1,n-1):\n",
    "                for k in range(j+1,n):\n",
    "                    kismicevap = (nums[i] - nums[j]) * nums[k]\n",
    "                    if enbuyukcevap < kismicevap:\n",
    "                        enbuyukcevap = kismicevap\n",
    "        return enbuyukcevap\n"
   ]
  },
  {
   "cell_type": "code",
   "execution_count": null,
   "metadata": {},
   "outputs": [],
   "source": []
  }
 ],
 "metadata": {
  "language_info": {
   "name": "python"
  }
 },
 "nbformat": 4,
 "nbformat_minor": 2
}
