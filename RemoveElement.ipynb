{
 "cells": [
  {
   "cell_type": "code",
   "execution_count": null,
   "id": "bfa482ca",
   "metadata": {},
   "outputs": [],
   "source": [
    "class Solution(object):\n",
    "    def removeElement(self, nums, val):\n",
    "        sayac = 0\n",
    "        for x in range(len(nums)):\n",
    "            try:\n",
    "                if nums[x-sayac] == val :\n",
    "                    nums.remove(val)\n",
    "                    sayac= sayac+1\n",
    "            except:\n",
    "                continue\n",
    "        return len(nums)\n",
    "        "
   ]
  }
 ],
 "metadata": {
  "language_info": {
   "name": "python"
  }
 },
 "nbformat": 4,
 "nbformat_minor": 5
}
