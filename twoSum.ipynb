{
 "cells": [
  {
   "cell_type": "code",
   "execution_count": null,
   "metadata": {},
   "outputs": [],
   "source": [
    "class Solution(object):\n",
    "    def twoSum(self, nums, target):\n",
    "        for i,x in enumerate(nums):\n",
    "            asdf = target - x\n",
    "            if asdf in nums:\n",
    "                if i == nums.index(asdf) :\n",
    "                    continue\n",
    "                else: return i,nums.index(asdf)\n",
    "\n",
    "        \n"
   ]
  }
 ],
 "metadata": {
  "language_info": {
   "name": "python"
  }
 },
 "nbformat": 4,
 "nbformat_minor": 2
}
