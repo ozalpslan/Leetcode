{
 "cells": [
  {
   "cell_type": "code",
   "execution_count": null,
   "metadata": {},
   "outputs": [],
   "source": [
    "class Solution(object):\n",
    "    def lengthOfLongestSubstring(self, s):\n",
    "        kullanilankelimelerenuzun =[]\n",
    "        for x in range(len(s)):\n",
    "            anlikkelimeler = []\n",
    "            for kelime in s[x::]:\n",
    "                if kelime in anlikkelimeler:\n",
    "                    break\n",
    "                anlikkelimeler.append(kelime)\n",
    "                if len(anlikkelimeler)> len(kullanilankelimelerenuzun):\n",
    "                    kullanilankelimelerenuzun = anlikkelimeler\n",
    "                    \n",
    "        return len(kullanilankelimelerenuzun)\n",
    "\n",
    "\n"
   ]
  },
  {
   "cell_type": "code",
   "execution_count": null,
   "metadata": {},
   "outputs": [],
   "source": []
  }
 ],
 "metadata": {
  "kernelspec": {
   "display_name": "mypython",
   "language": "python",
   "name": "python3"
  },
  "language_info": {
   "codemirror_mode": {
    "name": "ipython",
    "version": 3
   },
   "file_extension": ".py",
   "mimetype": "text/x-python",
   "name": "python",
   "nbconvert_exporter": "python",
   "pygments_lexer": "ipython3",
   "version": "3.12.9"
  }
 },
 "nbformat": 4,
 "nbformat_minor": 2
}
