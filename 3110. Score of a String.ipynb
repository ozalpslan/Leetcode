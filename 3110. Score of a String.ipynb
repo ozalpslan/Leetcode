{
 "cells": [
  {
   "cell_type": "code",
   "execution_count": null,
   "id": "38160838",
   "metadata": {},
   "outputs": [],
   "source": [
    "class Solution(object):\n",
    "    def scoreOfString(self, s):\n",
    "        "
   ]
  },
  {
   "cell_type": "code",
   "execution_count": null,
   "id": "182da271",
   "metadata": {},
   "outputs": [
    {
     "name": "stdout",
     "output_type": "stream",
     "text": [
      "97\n",
      "115\n",
      "100\n"
     ]
    }
   ],
   "source": [
    "a = \"asd\"\n",
    "toplam = 0\n",
    "bironceki = 0\n",
    "degerler = 0\n",
    "for i,x in enumerate(a):\n",
    "    if i ==0 :\n",
    "        bironceki = ord(x)\n",
    "        continue\n",
    "    degerler =degerler + abs(bironceki-ord(x))\n",
    "    bironceki = ord(x)\n",
    "\n",
    "    \n",
    "    "
   ]
  },
  {
   "cell_type": "code",
   "execution_count": null,
   "id": "04249dff",
   "metadata": {},
   "outputs": [],
   "source": []
  }
 ],
 "metadata": {
  "kernelspec": {
   "display_name": "mypython",
   "language": "python",
   "name": "python3"
  },
  "language_info": {
   "codemirror_mode": {
    "name": "ipython",
    "version": 3
   },
   "file_extension": ".py",
   "mimetype": "text/x-python",
   "name": "python",
   "nbconvert_exporter": "python",
   "pygments_lexer": "ipython3",
   "version": "3.12.9"
  }
 },
 "nbformat": 4,
 "nbformat_minor": 5
}
